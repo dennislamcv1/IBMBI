{
 "cells": [
  {
   "cell_type": "markdown",
   "metadata": {},
   "source": [
    "# Final Project Overview and Tasks"
   ]
  },
  {
   "cell_type": "markdown",
   "metadata": {},
   "source": [
    "**==========================================================================================================**"
   ]
  },
  {
   "cell_type": "markdown",
   "metadata": {},
   "source": [
    "**==========================================================================================================**"
   ]
  },
  {
   "cell_type": "markdown",
   "metadata": {},
   "source": [
    "## Project Description / Business Task"
   ]
  },
  {
   "cell_type": "markdown",
   "metadata": {},
   "source": [
    "Download the dataset provided and complete the tasks given below. You will then submit the completed worksheet and answer questions based on the tasks. When you submit your project, you will need to review the projects of three of your peers."
   ]
  },
  {
   "cell_type": "markdown",
   "metadata": {},
   "source": [
    "## Data sources\n",
    "\n",
    "You've been hired as a BI analyst by a supermarket chain. The management wants to analyze the probability distribution of revenue over the last three years, compare region-wise and product-wise revenue, and also find trends in the monthly revenue.\n",
    "\n",
    "You've been provided with sales data for a store in the supermarket chain for the years 2021, 2022, and 2023, including information on sales transactions, product categories, and customer demographics."
   ]
  },
  {
   "cell_type": "markdown",
   "metadata": {},
   "source": [
    "In this assignment, you will:\n",
    "\n",
    "    Calculate the measures of central tendency: Mean, median, and mode.\n",
    "    Calculate the measures of dispersion: Standard deviation and variance.\n",
    "    Find the minimum, maximum, percentiles, and quartiles.\n",
    "    Create a histogram.\n",
    "    Create a pivot table.\n",
    "    Perform a multiple linear regression and interpret the outcome."
   ]
  },
  {
   "cell_type": "markdown",
   "metadata": {},
   "source": [
    "## Data Tasks\n",
    "\n",
    "For tasks 1 to 6, access the dataset in the sales_data worksheet. For task 7, use the dataset in the monthly_sales worksheet.\n"
   ]
  },
  {
   "cell_type": "markdown",
   "metadata": {},
   "source": [
    "**==========================================================================================================**"
   ]
  },
  {
   "cell_type": "markdown",
   "metadata": {},
   "source": [
    "## Import Libraries"
   ]
  },
  {
   "cell_type": "code",
   "execution_count": 1,
   "metadata": {},
   "outputs": [
    {
     "data": {
      "application/javascript": [
       "IPython.notebook.set_autosave_interval(60000)"
      ]
     },
     "metadata": {},
     "output_type": "display_data"
    },
    {
     "name": "stdout",
     "output_type": "stream",
     "text": [
      "Autosaving every 60 seconds\n"
     ]
    }
   ],
   "source": [
    "import numpy as np\n",
    "#from numpy import count_nonzero, median, mean\n",
    "import pandas as pd\n",
    "from pandas.plotting import scatter_matrix\n",
    "import matplotlib.pyplot as plt\n",
    "import seaborn as sns\n",
    "import random\n",
    "#import squarify\n",
    "\n",
    "import statistics\n",
    "from collections import Counter\n",
    "import statsmodels.api as sm\n",
    "import statsmodels.formula.api as smf\n",
    "from statsmodels.formula.api import ols\n",
    "# Import variance_inflation_factor from statsmodels\n",
    "#from statsmodels.stats.outliers_influence import variance_inflation_factor\n",
    "# Import Tukey's HSD function\n",
    "#from statsmodels.stats.multicomp import pairwise_tukeyhsd\n",
    "\n",
    "import datetime\n",
    "from datetime import datetime, timedelta, date\n",
    "\n",
    "import scipy\n",
    "from scipy import stats\n",
    "from scipy.stats.mstats import normaltest # D'Agostino K^2 Test\n",
    "from scipy.stats import boxcox\n",
    "from collections import Counter\n",
    "\n",
    "%matplotlib inline\n",
    "#sets the default autosave frequency in seconds\n",
    "%autosave 60 \n",
    "sns.set_style('dark')\n",
    "sns.set(font_scale=1.2)\n",
    "#sns.set(rc={'figure.figsize':(14,10)})\n",
    "\n",
    "plt.rc('axes', titlesize=9)\n",
    "plt.rc('axes', labelsize=14)\n",
    "plt.rc('xtick', labelsize=12)\n",
    "plt.rc('ytick', labelsize=12)\n",
    "\n",
    "import warnings\n",
    "warnings.filterwarnings('ignore')\n",
    "\n",
    "pd.set_option('display.max_columns',None)\n",
    "#pd.set_option('display.max_rows',None)\n",
    "pd.set_option('display.width', 1000)\n",
    "pd.set_option('display.float_format','{:.2f}'.format)\n",
    "\n",
    "random.seed(0)\n",
    "np.random.seed(0)\n",
    "np.set_printoptions(suppress=True)"
   ]
  },
  {
   "cell_type": "markdown",
   "metadata": {},
   "source": [
    "**==========================================================================================================**"
   ]
  },
  {
   "cell_type": "markdown",
   "metadata": {},
   "source": [
    "## Import Data"
   ]
  },
  {
   "cell_type": "code",
   "execution_count": 2,
   "metadata": {},
   "outputs": [],
   "source": [
    "df = pd.read_csv(\"supermarketsales.csv\")"
   ]
  },
  {
   "cell_type": "markdown",
   "metadata": {},
   "source": [
    "**==========================================================================================================**"
   ]
  },
  {
   "cell_type": "markdown",
   "metadata": {},
   "source": [
    "## Data Quick Glance"
   ]
  },
  {
   "cell_type": "code",
   "execution_count": 3,
   "metadata": {},
   "outputs": [
    {
     "data": {
      "text/html": [
       "<div>\n",
       "<style scoped>\n",
       "    .dataframe tbody tr th:only-of-type {\n",
       "        vertical-align: middle;\n",
       "    }\n",
       "\n",
       "    .dataframe tbody tr th {\n",
       "        vertical-align: top;\n",
       "    }\n",
       "\n",
       "    .dataframe thead th {\n",
       "        text-align: right;\n",
       "    }\n",
       "</style>\n",
       "<table border=\"1\" class=\"dataframe\">\n",
       "  <thead>\n",
       "    <tr style=\"text-align: right;\">\n",
       "      <th></th>\n",
       "      <th>Transaction</th>\n",
       "      <th>Purchase Date</th>\n",
       "      <th>Customer ID</th>\n",
       "      <th>Gender</th>\n",
       "      <th>Marital Status</th>\n",
       "      <th>Homeowner</th>\n",
       "      <th>Children</th>\n",
       "      <th>Annual Income</th>\n",
       "      <th>City</th>\n",
       "      <th>State or Province</th>\n",
       "      <th>Country</th>\n",
       "      <th>Product Family</th>\n",
       "      <th>Product Department</th>\n",
       "      <th>Product Category</th>\n",
       "      <th>Units Sold</th>\n",
       "      <th>Revenue</th>\n",
       "    </tr>\n",
       "  </thead>\n",
       "  <tbody>\n",
       "    <tr>\n",
       "      <th>0</th>\n",
       "      <td>1</td>\n",
       "      <td>2021</td>\n",
       "      <td>7223</td>\n",
       "      <td>F</td>\n",
       "      <td>S</td>\n",
       "      <td>Y</td>\n",
       "      <td>2</td>\n",
       "      <td>$30K - $50K</td>\n",
       "      <td>Los Angeles</td>\n",
       "      <td>CA</td>\n",
       "      <td>USA</td>\n",
       "      <td>Food</td>\n",
       "      <td>Snack Foods</td>\n",
       "      <td>Snack Foods</td>\n",
       "      <td>5</td>\n",
       "      <td>27.38</td>\n",
       "    </tr>\n",
       "    <tr>\n",
       "      <th>1</th>\n",
       "      <td>2</td>\n",
       "      <td>2021</td>\n",
       "      <td>7841</td>\n",
       "      <td>M</td>\n",
       "      <td>M</td>\n",
       "      <td>Y</td>\n",
       "      <td>5</td>\n",
       "      <td>$70K - $90K</td>\n",
       "      <td>Los Angeles</td>\n",
       "      <td>CA</td>\n",
       "      <td>USA</td>\n",
       "      <td>Food</td>\n",
       "      <td>Produce</td>\n",
       "      <td>Vegetables</td>\n",
       "      <td>5</td>\n",
       "      <td>14.90</td>\n",
       "    </tr>\n",
       "    <tr>\n",
       "      <th>2</th>\n",
       "      <td>3</td>\n",
       "      <td>2021</td>\n",
       "      <td>8374</td>\n",
       "      <td>F</td>\n",
       "      <td>M</td>\n",
       "      <td>N</td>\n",
       "      <td>2</td>\n",
       "      <td>$50K - $70K</td>\n",
       "      <td>Bremerton</td>\n",
       "      <td>WA</td>\n",
       "      <td>USA</td>\n",
       "      <td>Food</td>\n",
       "      <td>Snack Foods</td>\n",
       "      <td>Snack Foods</td>\n",
       "      <td>3</td>\n",
       "      <td>5.52</td>\n",
       "    </tr>\n",
       "    <tr>\n",
       "      <th>3</th>\n",
       "      <td>4</td>\n",
       "      <td>2021</td>\n",
       "      <td>9619</td>\n",
       "      <td>M</td>\n",
       "      <td>M</td>\n",
       "      <td>Y</td>\n",
       "      <td>3</td>\n",
       "      <td>$30K - $50K</td>\n",
       "      <td>Portland</td>\n",
       "      <td>OR</td>\n",
       "      <td>USA</td>\n",
       "      <td>Food</td>\n",
       "      <td>Snacks</td>\n",
       "      <td>Candy</td>\n",
       "      <td>4</td>\n",
       "      <td>4.44</td>\n",
       "    </tr>\n",
       "    <tr>\n",
       "      <th>4</th>\n",
       "      <td>5</td>\n",
       "      <td>2021</td>\n",
       "      <td>1900</td>\n",
       "      <td>F</td>\n",
       "      <td>S</td>\n",
       "      <td>Y</td>\n",
       "      <td>3</td>\n",
       "      <td>$130K - $150K</td>\n",
       "      <td>Beverly Hills</td>\n",
       "      <td>CA</td>\n",
       "      <td>USA</td>\n",
       "      <td>Drink</td>\n",
       "      <td>Beverages</td>\n",
       "      <td>Carbonated Beverages</td>\n",
       "      <td>4</td>\n",
       "      <td>14.00</td>\n",
       "    </tr>\n",
       "  </tbody>\n",
       "</table>\n",
       "</div>"
      ],
      "text/plain": [
       "   Transaction  Purchase Date  Customer ID Gender Marital Status Homeowner  Children  Annual Income           City State or Province Country Product Family Product Department      Product Category  Units Sold  Revenue\n",
       "0            1           2021         7223      F              S         Y         2    $30K - $50K    Los Angeles                CA     USA           Food        Snack Foods           Snack Foods           5    27.38\n",
       "1            2           2021         7841      M              M         Y         5    $70K - $90K    Los Angeles                CA     USA           Food            Produce            Vegetables           5    14.90\n",
       "2            3           2021         8374      F              M         N         2    $50K - $70K      Bremerton                WA     USA           Food        Snack Foods           Snack Foods           3     5.52\n",
       "3            4           2021         9619      M              M         Y         3    $30K - $50K       Portland                OR     USA           Food             Snacks                 Candy           4     4.44\n",
       "4            5           2021         1900      F              S         Y         3  $130K - $150K  Beverly Hills                CA     USA          Drink          Beverages  Carbonated Beverages           4    14.00"
      ]
     },
     "execution_count": 3,
     "metadata": {},
     "output_type": "execute_result"
    }
   ],
   "source": [
    "df.head()"
   ]
  },
  {
   "cell_type": "code",
   "execution_count": 4,
   "metadata": {},
   "outputs": [
    {
     "name": "stdout",
     "output_type": "stream",
     "text": [
      "<class 'pandas.core.frame.DataFrame'>\n",
      "RangeIndex: 14059 entries, 0 to 14058\n",
      "Data columns (total 16 columns):\n",
      " #   Column              Non-Null Count  Dtype  \n",
      "---  ------              --------------  -----  \n",
      " 0   Transaction         14059 non-null  int64  \n",
      " 1   Purchase Date       14059 non-null  int64  \n",
      " 2   Customer ID         14059 non-null  int64  \n",
      " 3   Gender              14059 non-null  object \n",
      " 4   Marital Status      14059 non-null  object \n",
      " 5   Homeowner           14059 non-null  object \n",
      " 6   Children            14059 non-null  int64  \n",
      " 7   Annual Income       14059 non-null  object \n",
      " 8   City                14059 non-null  object \n",
      " 9   State or Province   14059 non-null  object \n",
      " 10  Country             14059 non-null  object \n",
      " 11  Product Family      14059 non-null  object \n",
      " 12  Product Department  14059 non-null  object \n",
      " 13  Product Category    14059 non-null  object \n",
      " 14  Units Sold          14059 non-null  int64  \n",
      " 15  Revenue             14059 non-null  float64\n",
      "dtypes: float64(1), int64(5), object(10)\n",
      "memory usage: 1.7+ MB\n"
     ]
    }
   ],
   "source": [
    "df.info()"
   ]
  },
  {
   "cell_type": "code",
   "execution_count": 5,
   "metadata": {},
   "outputs": [
    {
     "data": {
      "text/plain": [
       "object     10\n",
       "int64       5\n",
       "float64     1\n",
       "dtype: int64"
      ]
     },
     "execution_count": 5,
     "metadata": {},
     "output_type": "execute_result"
    }
   ],
   "source": [
    "df.dtypes.value_counts()"
   ]
  },
  {
   "cell_type": "code",
   "execution_count": 6,
   "metadata": {},
   "outputs": [],
   "source": [
    "#1 Measures of central tendency: Calculate the mean, median, and mode of the revenue earned in each of the years 2021, 2022, and 2023."
   ]
  },
  {
   "cell_type": "code",
   "execution_count": 7,
   "metadata": {},
   "outputs": [
    {
     "data": {
      "text/plain": [
       "array([2021, 2022, 2023], dtype=int64)"
      ]
     },
     "execution_count": 7,
     "metadata": {},
     "output_type": "execute_result"
    }
   ],
   "source": [
    "df[\"Purchase Date\"].unique()"
   ]
  },
  {
   "cell_type": "code",
   "execution_count": 8,
   "metadata": {},
   "outputs": [
    {
     "data": {
      "text/html": [
       "<div>\n",
       "<style scoped>\n",
       "    .dataframe tbody tr th:only-of-type {\n",
       "        vertical-align: middle;\n",
       "    }\n",
       "\n",
       "    .dataframe tbody tr th {\n",
       "        vertical-align: top;\n",
       "    }\n",
       "\n",
       "    .dataframe thead th {\n",
       "        text-align: right;\n",
       "    }\n",
       "</style>\n",
       "<table border=\"1\" class=\"dataframe\">\n",
       "  <thead>\n",
       "    <tr style=\"text-align: right;\">\n",
       "      <th></th>\n",
       "      <th>Transaction</th>\n",
       "      <th>Purchase Date</th>\n",
       "      <th>Customer ID</th>\n",
       "      <th>Gender</th>\n",
       "      <th>Marital Status</th>\n",
       "      <th>Homeowner</th>\n",
       "      <th>Children</th>\n",
       "      <th>Annual Income</th>\n",
       "      <th>City</th>\n",
       "      <th>State or Province</th>\n",
       "      <th>Country</th>\n",
       "      <th>Product Family</th>\n",
       "      <th>Product Department</th>\n",
       "      <th>Product Category</th>\n",
       "      <th>Units Sold</th>\n",
       "      <th>Revenue</th>\n",
       "    </tr>\n",
       "  </thead>\n",
       "  <tbody>\n",
       "    <tr>\n",
       "      <th>0</th>\n",
       "      <td>1</td>\n",
       "      <td>2021</td>\n",
       "      <td>7223</td>\n",
       "      <td>F</td>\n",
       "      <td>S</td>\n",
       "      <td>Y</td>\n",
       "      <td>2</td>\n",
       "      <td>$30K - $50K</td>\n",
       "      <td>Los Angeles</td>\n",
       "      <td>CA</td>\n",
       "      <td>USA</td>\n",
       "      <td>Food</td>\n",
       "      <td>Snack Foods</td>\n",
       "      <td>Snack Foods</td>\n",
       "      <td>5</td>\n",
       "      <td>27.38</td>\n",
       "    </tr>\n",
       "    <tr>\n",
       "      <th>1</th>\n",
       "      <td>2</td>\n",
       "      <td>2021</td>\n",
       "      <td>7841</td>\n",
       "      <td>M</td>\n",
       "      <td>M</td>\n",
       "      <td>Y</td>\n",
       "      <td>5</td>\n",
       "      <td>$70K - $90K</td>\n",
       "      <td>Los Angeles</td>\n",
       "      <td>CA</td>\n",
       "      <td>USA</td>\n",
       "      <td>Food</td>\n",
       "      <td>Produce</td>\n",
       "      <td>Vegetables</td>\n",
       "      <td>5</td>\n",
       "      <td>14.90</td>\n",
       "    </tr>\n",
       "    <tr>\n",
       "      <th>2</th>\n",
       "      <td>3</td>\n",
       "      <td>2021</td>\n",
       "      <td>8374</td>\n",
       "      <td>F</td>\n",
       "      <td>M</td>\n",
       "      <td>N</td>\n",
       "      <td>2</td>\n",
       "      <td>$50K - $70K</td>\n",
       "      <td>Bremerton</td>\n",
       "      <td>WA</td>\n",
       "      <td>USA</td>\n",
       "      <td>Food</td>\n",
       "      <td>Snack Foods</td>\n",
       "      <td>Snack Foods</td>\n",
       "      <td>3</td>\n",
       "      <td>5.52</td>\n",
       "    </tr>\n",
       "    <tr>\n",
       "      <th>3</th>\n",
       "      <td>4</td>\n",
       "      <td>2021</td>\n",
       "      <td>9619</td>\n",
       "      <td>M</td>\n",
       "      <td>M</td>\n",
       "      <td>Y</td>\n",
       "      <td>3</td>\n",
       "      <td>$30K - $50K</td>\n",
       "      <td>Portland</td>\n",
       "      <td>OR</td>\n",
       "      <td>USA</td>\n",
       "      <td>Food</td>\n",
       "      <td>Snacks</td>\n",
       "      <td>Candy</td>\n",
       "      <td>4</td>\n",
       "      <td>4.44</td>\n",
       "    </tr>\n",
       "    <tr>\n",
       "      <th>4</th>\n",
       "      <td>5</td>\n",
       "      <td>2021</td>\n",
       "      <td>1900</td>\n",
       "      <td>F</td>\n",
       "      <td>S</td>\n",
       "      <td>Y</td>\n",
       "      <td>3</td>\n",
       "      <td>$130K - $150K</td>\n",
       "      <td>Beverly Hills</td>\n",
       "      <td>CA</td>\n",
       "      <td>USA</td>\n",
       "      <td>Drink</td>\n",
       "      <td>Beverages</td>\n",
       "      <td>Carbonated Beverages</td>\n",
       "      <td>4</td>\n",
       "      <td>14.00</td>\n",
       "    </tr>\n",
       "  </tbody>\n",
       "</table>\n",
       "</div>"
      ],
      "text/plain": [
       "   Transaction  Purchase Date  Customer ID Gender Marital Status Homeowner  Children  Annual Income           City State or Province Country Product Family Product Department      Product Category  Units Sold  Revenue\n",
       "0            1           2021         7223      F              S         Y         2    $30K - $50K    Los Angeles                CA     USA           Food        Snack Foods           Snack Foods           5    27.38\n",
       "1            2           2021         7841      M              M         Y         5    $70K - $90K    Los Angeles                CA     USA           Food            Produce            Vegetables           5    14.90\n",
       "2            3           2021         8374      F              M         N         2    $50K - $70K      Bremerton                WA     USA           Food        Snack Foods           Snack Foods           3     5.52\n",
       "3            4           2021         9619      M              M         Y         3    $30K - $50K       Portland                OR     USA           Food             Snacks                 Candy           4     4.44\n",
       "4            5           2021         1900      F              S         Y         3  $130K - $150K  Beverly Hills                CA     USA          Drink          Beverages  Carbonated Beverages           4    14.00"
      ]
     },
     "execution_count": 8,
     "metadata": {},
     "output_type": "execute_result"
    }
   ],
   "source": [
    "df2021 = df[df[\"Purchase Date\"] == 2021]\n",
    "df2021.head()"
   ]
  },
  {
   "cell_type": "code",
   "execution_count": 9,
   "metadata": {},
   "outputs": [
    {
     "data": {
      "text/plain": [
       "count   35.00\n",
       "mean    11.38\n",
       "std      5.98\n",
       "min      1.43\n",
       "25%      7.00\n",
       "50%     11.82\n",
       "75%     14.63\n",
       "max     27.38\n",
       "Name: Revenue, dtype: float64"
      ]
     },
     "execution_count": 9,
     "metadata": {},
     "output_type": "execute_result"
    }
   ],
   "source": [
    "df2021.Revenue.describe()"
   ]
  },
  {
   "cell_type": "code",
   "execution_count": 10,
   "metadata": {},
   "outputs": [
    {
     "data": {
      "text/plain": [
       "8.74"
      ]
     },
     "execution_count": 10,
     "metadata": {},
     "output_type": "execute_result"
    }
   ],
   "source": [
    "statistics.mode(df2021.Revenue)"
   ]
  },
  {
   "cell_type": "code",
   "execution_count": 11,
   "metadata": {},
   "outputs": [
    {
     "data": {
      "text/html": [
       "<div>\n",
       "<style scoped>\n",
       "    .dataframe tbody tr th:only-of-type {\n",
       "        vertical-align: middle;\n",
       "    }\n",
       "\n",
       "    .dataframe tbody tr th {\n",
       "        vertical-align: top;\n",
       "    }\n",
       "\n",
       "    .dataframe thead th {\n",
       "        text-align: right;\n",
       "    }\n",
       "</style>\n",
       "<table border=\"1\" class=\"dataframe\">\n",
       "  <thead>\n",
       "    <tr style=\"text-align: right;\">\n",
       "      <th></th>\n",
       "      <th>Transaction</th>\n",
       "      <th>Purchase Date</th>\n",
       "      <th>Customer ID</th>\n",
       "      <th>Gender</th>\n",
       "      <th>Marital Status</th>\n",
       "      <th>Homeowner</th>\n",
       "      <th>Children</th>\n",
       "      <th>Annual Income</th>\n",
       "      <th>City</th>\n",
       "      <th>State or Province</th>\n",
       "      <th>Country</th>\n",
       "      <th>Product Family</th>\n",
       "      <th>Product Department</th>\n",
       "      <th>Product Category</th>\n",
       "      <th>Units Sold</th>\n",
       "      <th>Revenue</th>\n",
       "    </tr>\n",
       "  </thead>\n",
       "  <tbody>\n",
       "    <tr>\n",
       "      <th>35</th>\n",
       "      <td>36</td>\n",
       "      <td>2022</td>\n",
       "      <td>240</td>\n",
       "      <td>M</td>\n",
       "      <td>M</td>\n",
       "      <td>N</td>\n",
       "      <td>2</td>\n",
       "      <td>$30K - $50K</td>\n",
       "      <td>Los Angeles</td>\n",
       "      <td>CA</td>\n",
       "      <td>USA</td>\n",
       "      <td>Food</td>\n",
       "      <td>Produce</td>\n",
       "      <td>Fruit</td>\n",
       "      <td>2</td>\n",
       "      <td>8.42</td>\n",
       "    </tr>\n",
       "    <tr>\n",
       "      <th>36</th>\n",
       "      <td>37</td>\n",
       "      <td>2022</td>\n",
       "      <td>6510</td>\n",
       "      <td>F</td>\n",
       "      <td>M</td>\n",
       "      <td>Y</td>\n",
       "      <td>0</td>\n",
       "      <td>$50K - $70K</td>\n",
       "      <td>Salem</td>\n",
       "      <td>OR</td>\n",
       "      <td>USA</td>\n",
       "      <td>Food</td>\n",
       "      <td>Produce</td>\n",
       "      <td>Vegetables</td>\n",
       "      <td>5</td>\n",
       "      <td>7.23</td>\n",
       "    </tr>\n",
       "    <tr>\n",
       "      <th>37</th>\n",
       "      <td>38</td>\n",
       "      <td>2022</td>\n",
       "      <td>7570</td>\n",
       "      <td>M</td>\n",
       "      <td>M</td>\n",
       "      <td>Y</td>\n",
       "      <td>4</td>\n",
       "      <td>$70K - $90K</td>\n",
       "      <td>Salem</td>\n",
       "      <td>OR</td>\n",
       "      <td>USA</td>\n",
       "      <td>Non-Consumable</td>\n",
       "      <td>Health and Hygiene</td>\n",
       "      <td>Bathroom Products</td>\n",
       "      <td>3</td>\n",
       "      <td>6.07</td>\n",
       "    </tr>\n",
       "    <tr>\n",
       "      <th>38</th>\n",
       "      <td>39</td>\n",
       "      <td>2022</td>\n",
       "      <td>4686</td>\n",
       "      <td>F</td>\n",
       "      <td>S</td>\n",
       "      <td>N</td>\n",
       "      <td>2</td>\n",
       "      <td>$50K - $70K</td>\n",
       "      <td>Los Angeles</td>\n",
       "      <td>CA</td>\n",
       "      <td>USA</td>\n",
       "      <td>Non-Consumable</td>\n",
       "      <td>Household</td>\n",
       "      <td>Electrical</td>\n",
       "      <td>5</td>\n",
       "      <td>11.90</td>\n",
       "    </tr>\n",
       "    <tr>\n",
       "      <th>39</th>\n",
       "      <td>40</td>\n",
       "      <td>2022</td>\n",
       "      <td>6207</td>\n",
       "      <td>M</td>\n",
       "      <td>M</td>\n",
       "      <td>N</td>\n",
       "      <td>1</td>\n",
       "      <td>$30K - $50K</td>\n",
       "      <td>Los Angeles</td>\n",
       "      <td>CA</td>\n",
       "      <td>USA</td>\n",
       "      <td>Drink</td>\n",
       "      <td>Dairy</td>\n",
       "      <td>Dairy</td>\n",
       "      <td>5</td>\n",
       "      <td>13.16</td>\n",
       "    </tr>\n",
       "  </tbody>\n",
       "</table>\n",
       "</div>"
      ],
      "text/plain": [
       "    Transaction  Purchase Date  Customer ID Gender Marital Status Homeowner  Children Annual Income         City State or Province Country  Product Family  Product Department   Product Category  Units Sold  Revenue\n",
       "35           36           2022          240      M              M         N         2   $30K - $50K  Los Angeles                CA     USA            Food             Produce              Fruit           2     8.42\n",
       "36           37           2022         6510      F              M         Y         0   $50K - $70K        Salem                OR     USA            Food             Produce         Vegetables           5     7.23\n",
       "37           38           2022         7570      M              M         Y         4   $70K - $90K        Salem                OR     USA  Non-Consumable  Health and Hygiene  Bathroom Products           3     6.07\n",
       "38           39           2022         4686      F              S         N         2   $50K - $70K  Los Angeles                CA     USA  Non-Consumable           Household         Electrical           5    11.90\n",
       "39           40           2022         6207      M              M         N         1   $30K - $50K  Los Angeles                CA     USA           Drink               Dairy              Dairy           5    13.16"
      ]
     },
     "execution_count": 11,
     "metadata": {},
     "output_type": "execute_result"
    }
   ],
   "source": [
    "df2022 = df[df[\"Purchase Date\"] == 2022]\n",
    "df2022.head()"
   ]
  },
  {
   "cell_type": "code",
   "execution_count": 12,
   "metadata": {},
   "outputs": [
    {
     "data": {
      "text/plain": [
       "count   4692.00\n",
       "mean      12.90\n",
       "std        8.09\n",
       "min        0.62\n",
       "25%        6.72\n",
       "50%       11.16\n",
       "75%       17.38\n",
       "max       53.19\n",
       "Name: Revenue, dtype: float64"
      ]
     },
     "execution_count": 12,
     "metadata": {},
     "output_type": "execute_result"
    }
   ],
   "source": [
    "df2022.Revenue.describe()"
   ]
  },
  {
   "cell_type": "code",
   "execution_count": 13,
   "metadata": {},
   "outputs": [
    {
     "data": {
      "text/plain": [
       "5.04"
      ]
     },
     "execution_count": 13,
     "metadata": {},
     "output_type": "execute_result"
    }
   ],
   "source": [
    "statistics.mode(df2022.Revenue)"
   ]
  },
  {
   "cell_type": "code",
   "execution_count": 14,
   "metadata": {},
   "outputs": [
    {
     "data": {
      "text/html": [
       "<div>\n",
       "<style scoped>\n",
       "    .dataframe tbody tr th:only-of-type {\n",
       "        vertical-align: middle;\n",
       "    }\n",
       "\n",
       "    .dataframe tbody tr th {\n",
       "        vertical-align: top;\n",
       "    }\n",
       "\n",
       "    .dataframe thead th {\n",
       "        text-align: right;\n",
       "    }\n",
       "</style>\n",
       "<table border=\"1\" class=\"dataframe\">\n",
       "  <thead>\n",
       "    <tr style=\"text-align: right;\">\n",
       "      <th></th>\n",
       "      <th>Transaction</th>\n",
       "      <th>Purchase Date</th>\n",
       "      <th>Customer ID</th>\n",
       "      <th>Gender</th>\n",
       "      <th>Marital Status</th>\n",
       "      <th>Homeowner</th>\n",
       "      <th>Children</th>\n",
       "      <th>Annual Income</th>\n",
       "      <th>City</th>\n",
       "      <th>State or Province</th>\n",
       "      <th>Country</th>\n",
       "      <th>Product Family</th>\n",
       "      <th>Product Department</th>\n",
       "      <th>Product Category</th>\n",
       "      <th>Units Sold</th>\n",
       "      <th>Revenue</th>\n",
       "    </tr>\n",
       "  </thead>\n",
       "  <tbody>\n",
       "    <tr>\n",
       "      <th>4727</th>\n",
       "      <td>4728</td>\n",
       "      <td>2023</td>\n",
       "      <td>4422</td>\n",
       "      <td>F</td>\n",
       "      <td>M</td>\n",
       "      <td>Y</td>\n",
       "      <td>3</td>\n",
       "      <td>$30K - $50K</td>\n",
       "      <td>Los Angeles</td>\n",
       "      <td>CA</td>\n",
       "      <td>USA</td>\n",
       "      <td>Food</td>\n",
       "      <td>Starchy Foods</td>\n",
       "      <td>Starchy Foods</td>\n",
       "      <td>2</td>\n",
       "      <td>11.68</td>\n",
       "    </tr>\n",
       "    <tr>\n",
       "      <th>4728</th>\n",
       "      <td>4729</td>\n",
       "      <td>2023</td>\n",
       "      <td>6712</td>\n",
       "      <td>M</td>\n",
       "      <td>M</td>\n",
       "      <td>Y</td>\n",
       "      <td>3</td>\n",
       "      <td>$110K - $130K</td>\n",
       "      <td>Spokane</td>\n",
       "      <td>WA</td>\n",
       "      <td>USA</td>\n",
       "      <td>Food</td>\n",
       "      <td>Baking Goods</td>\n",
       "      <td>Jams and Jellies</td>\n",
       "      <td>5</td>\n",
       "      <td>4.62</td>\n",
       "    </tr>\n",
       "    <tr>\n",
       "      <th>4729</th>\n",
       "      <td>4730</td>\n",
       "      <td>2023</td>\n",
       "      <td>2217</td>\n",
       "      <td>F</td>\n",
       "      <td>S</td>\n",
       "      <td>Y</td>\n",
       "      <td>4</td>\n",
       "      <td>$110K - $130K</td>\n",
       "      <td>Seattle</td>\n",
       "      <td>WA</td>\n",
       "      <td>USA</td>\n",
       "      <td>Food</td>\n",
       "      <td>Snack Foods</td>\n",
       "      <td>Snack Foods</td>\n",
       "      <td>4</td>\n",
       "      <td>12.77</td>\n",
       "    </tr>\n",
       "    <tr>\n",
       "      <th>4730</th>\n",
       "      <td>4731</td>\n",
       "      <td>2023</td>\n",
       "      <td>5295</td>\n",
       "      <td>M</td>\n",
       "      <td>S</td>\n",
       "      <td>Y</td>\n",
       "      <td>3</td>\n",
       "      <td>$30K - $50K</td>\n",
       "      <td>Spokane</td>\n",
       "      <td>WA</td>\n",
       "      <td>USA</td>\n",
       "      <td>Food</td>\n",
       "      <td>Produce</td>\n",
       "      <td>Vegetables</td>\n",
       "      <td>5</td>\n",
       "      <td>2.77</td>\n",
       "    </tr>\n",
       "    <tr>\n",
       "      <th>4731</th>\n",
       "      <td>4732</td>\n",
       "      <td>2023</td>\n",
       "      <td>3639</td>\n",
       "      <td>F</td>\n",
       "      <td>M</td>\n",
       "      <td>Y</td>\n",
       "      <td>2</td>\n",
       "      <td>$30K - $50K</td>\n",
       "      <td>San Diego</td>\n",
       "      <td>CA</td>\n",
       "      <td>USA</td>\n",
       "      <td>Food</td>\n",
       "      <td>Snack Foods</td>\n",
       "      <td>Snack Foods</td>\n",
       "      <td>5</td>\n",
       "      <td>7.13</td>\n",
       "    </tr>\n",
       "  </tbody>\n",
       "</table>\n",
       "</div>"
      ],
      "text/plain": [
       "      Transaction  Purchase Date  Customer ID Gender Marital Status Homeowner  Children  Annual Income         City State or Province Country Product Family Product Department  Product Category  Units Sold  Revenue\n",
       "4727         4728           2023         4422      F              M         Y         3    $30K - $50K  Los Angeles                CA     USA           Food      Starchy Foods     Starchy Foods           2    11.68\n",
       "4728         4729           2023         6712      M              M         Y         3  $110K - $130K      Spokane                WA     USA           Food       Baking Goods  Jams and Jellies           5     4.62\n",
       "4729         4730           2023         2217      F              S         Y         4  $110K - $130K      Seattle                WA     USA           Food        Snack Foods       Snack Foods           4    12.77\n",
       "4730         4731           2023         5295      M              S         Y         3    $30K - $50K      Spokane                WA     USA           Food            Produce        Vegetables           5     2.77\n",
       "4731         4732           2023         3639      F              M         Y         2    $30K - $50K    San Diego                CA     USA           Food        Snack Foods       Snack Foods           5     7.13"
      ]
     },
     "execution_count": 14,
     "metadata": {},
     "output_type": "execute_result"
    }
   ],
   "source": [
    "df2023 = df[df[\"Purchase Date\"] == 2023]\n",
    "df2023.head()"
   ]
  },
  {
   "cell_type": "code",
   "execution_count": 15,
   "metadata": {},
   "outputs": [
    {
     "data": {
      "text/plain": [
       "count   9332.00\n",
       "mean      13.06\n",
       "std        8.29\n",
       "min        0.53\n",
       "25%        6.91\n",
       "50%       11.28\n",
       "75%       17.37\n",
       "max       56.70\n",
       "Name: Revenue, dtype: float64"
      ]
     },
     "execution_count": 15,
     "metadata": {},
     "output_type": "execute_result"
    }
   ],
   "source": [
    "df2023.Revenue.describe()"
   ]
  },
  {
   "cell_type": "code",
   "execution_count": 16,
   "metadata": {},
   "outputs": [
    {
     "data": {
      "text/plain": [
       "7.56"
      ]
     },
     "execution_count": 16,
     "metadata": {},
     "output_type": "execute_result"
    }
   ],
   "source": [
    "statistics.mode(df2023.Revenue)"
   ]
  },
  {
   "cell_type": "code",
   "execution_count": 17,
   "metadata": {},
   "outputs": [],
   "source": [
    "#2 Measures of dispersion: Calculate the variance and standard deviation for the revenue earned in 2021"
   ]
  },
  {
   "cell_type": "code",
   "execution_count": 18,
   "metadata": {},
   "outputs": [
    {
     "data": {
      "text/plain": [
       "(35.717896974789916, 5.976445178765544)"
      ]
     },
     "execution_count": 18,
     "metadata": {},
     "output_type": "execute_result"
    }
   ],
   "source": [
    "df2021.Revenue.var(), df2021.Revenue.std()"
   ]
  },
  {
   "cell_type": "code",
   "execution_count": 19,
   "metadata": {},
   "outputs": [],
   "source": [
    "#3 Minimum and maximum: Calculate the minimum and maximum revenues from 2021 to 2023."
   ]
  },
  {
   "cell_type": "code",
   "execution_count": 20,
   "metadata": {},
   "outputs": [
    {
     "data": {
      "text/plain": [
       "(0.53, 56.7)"
      ]
     },
     "execution_count": 20,
     "metadata": {},
     "output_type": "execute_result"
    }
   ],
   "source": [
    "df.Revenue.min(), df.Revenue.max()"
   ]
  },
  {
   "cell_type": "code",
   "execution_count": 21,
   "metadata": {},
   "outputs": [],
   "source": [
    "#4 Quartiles and percentiles: Calculate the following quartiles and percentiles:"
   ]
  },
  {
   "cell_type": "code",
   "execution_count": 22,
   "metadata": {},
   "outputs": [],
   "source": [
    "# Calculate quartiles\n",
    "first_quartile = np.percentile(df2021.Revenue, 25)\n",
    "second_quartile = np.percentile(df2021.Revenue, 50)  # Median\n",
    "third_quartile = np.percentile(df2021.Revenue, 75)"
   ]
  },
  {
   "cell_type": "code",
   "execution_count": 23,
   "metadata": {},
   "outputs": [
    {
     "data": {
      "text/plain": [
       "(7.0, 11.82, 14.629999999999999)"
      ]
     },
     "execution_count": 23,
     "metadata": {},
     "output_type": "execute_result"
    }
   ],
   "source": [
    "first_quartile, second_quartile, third_quartile"
   ]
  },
  {
   "cell_type": "code",
   "execution_count": 24,
   "metadata": {},
   "outputs": [],
   "source": [
    "# Calculate percentiles\n",
    "percentiles = [1, 5, 50, 75, 95, 99]\n",
    "percentile_values = np.percentile(df2021.Revenue, percentiles)"
   ]
  },
  {
   "cell_type": "code",
   "execution_count": 25,
   "metadata": {},
   "outputs": [
    {
     "name": "stdout",
     "output_type": "stream",
     "text": [
      "\n",
      "Percentiles of the 2021 revenue:\n",
      "1 percentile: 1.7632\n",
      "5 percentile: 3.117\n",
      "50 percentile: 11.82\n",
      "75 percentile: 14.629999999999999\n",
      "95 percentile: 20.135999999999996\n",
      "99 percentile: 25.42159999999998\n"
     ]
    }
   ],
   "source": [
    "print(\"\\nPercentiles of the 2021 revenue:\")\n",
    "for p, value in zip(percentiles, percentile_values):\n",
    "    print(f\"{p} percentile:\", value)"
   ]
  },
  {
   "cell_type": "code",
   "execution_count": 26,
   "metadata": {},
   "outputs": [],
   "source": [
    "#5 Histogram: Create a histogram showing the probability distribution of revenue from 2021 to 2023."
   ]
  },
  {
   "cell_type": "code",
   "execution_count": 27,
   "metadata": {},
   "outputs": [
    {
     "data": {
      "image/png": "[encoded data removed]",
      "text/plain": [
       "<Figure size 1000x800 with 1 Axes>"
      ]
     },
     "metadata": {},
     "output_type": "display_data"
    }
   ],
   "source": [
    "df.Revenue.hist(bins=50, figsize=(10, 8), grid=False)\n",
    "plt.suptitle('Probability distribution of revenue from 2021 to 2023', x=0.5, y=1.02, ha='center', fontsize=20)\n",
    "\n",
    "plt.tight_layout()\n",
    "plt.show()"
   ]
  },
  {
   "cell_type": "code",
   "execution_count": 28,
   "metadata": {},
   "outputs": [],
   "source": [
    "#6 Pivot charts: Create two pivot charts in two separate worksheets to demonstrate the following:\n",
    "#  Show the revenue generated in each country and city during the period from 2021 to 2023. \n",
    "#  Name the Worksheet, Pivot_chart_a. Find out which country grosses the least revenue? (Canada)"
   ]
  },
  {
   "cell_type": "code",
   "execution_count": 29,
   "metadata": {},
   "outputs": [],
   "source": [
    "# Create a pivot table\n",
    "pivot_table1 = df.pivot_table(index=['Country', 'City'], columns='Purchase Date', values='Revenue', aggfunc='sum')"
   ]
  },
  {
   "cell_type": "code",
   "execution_count": 30,
   "metadata": {},
   "outputs": [
    {
     "data": {
      "text/html": [
       "<div>\n",
       "<style scoped>\n",
       "    .dataframe tbody tr th:only-of-type {\n",
       "        vertical-align: middle;\n",
       "    }\n",
       "\n",
       "    .dataframe tbody tr th {\n",
       "        vertical-align: top;\n",
       "    }\n",
       "\n",
       "    .dataframe thead th {\n",
       "        text-align: right;\n",
       "    }\n",
       "</style>\n",
       "<table border=\"1\" class=\"dataframe\">\n",
       "  <thead>\n",
       "    <tr style=\"text-align: right;\">\n",
       "      <th></th>\n",
       "      <th>Purchase Date</th>\n",
       "      <th>2021</th>\n",
       "      <th>2022</th>\n",
       "      <th>2023</th>\n",
       "    </tr>\n",
       "    <tr>\n",
       "      <th>Country</th>\n",
       "      <th>City</th>\n",
       "      <th></th>\n",
       "      <th></th>\n",
       "      <th></th>\n",
       "    </tr>\n",
       "  </thead>\n",
       "  <tbody>\n",
       "    <tr>\n",
       "      <th rowspan=\"2\" valign=\"top\">Canada</th>\n",
       "      <th>Vancouver</th>\n",
       "      <td>NaN</td>\n",
       "      <td>112.42</td>\n",
       "      <td>8552.58</td>\n",
       "    </tr>\n",
       "    <tr>\n",
       "      <th>Victoria</th>\n",
       "      <td>NaN</td>\n",
       "      <td>29.54</td>\n",
       "      <td>2372.49</td>\n",
       "    </tr>\n",
       "    <tr>\n",
       "      <th rowspan=\"8\" valign=\"top\">Mexico</th>\n",
       "      <th>Acapulco</th>\n",
       "      <td>NaN</td>\n",
       "      <td>33.24</td>\n",
       "      <td>5128.07</td>\n",
       "    </tr>\n",
       "    <tr>\n",
       "      <th>Camacho</th>\n",
       "      <td>NaN</td>\n",
       "      <td>75.06</td>\n",
       "      <td>5722.39</td>\n",
       "    </tr>\n",
       "    <tr>\n",
       "      <th>Guadalajara</th>\n",
       "      <td>NaN</td>\n",
       "      <td>NaN</td>\n",
       "      <td>523.32</td>\n",
       "    </tr>\n",
       "    <tr>\n",
       "      <th>Hidalgo</th>\n",
       "      <td>NaN</td>\n",
       "      <td>65.20</td>\n",
       "      <td>11247.57</td>\n",
       "    </tr>\n",
       "    <tr>\n",
       "      <th>Merida</th>\n",
       "      <td>NaN</td>\n",
       "      <td>98.46</td>\n",
       "      <td>8641.99</td>\n",
       "    </tr>\n",
       "    <tr>\n",
       "      <th>Mexico City</th>\n",
       "      <td>NaN</td>\n",
       "      <td>NaN</td>\n",
       "      <td>2488.31</td>\n",
       "    </tr>\n",
       "    <tr>\n",
       "      <th>Orizaba</th>\n",
       "      <td>NaN</td>\n",
       "      <td>162.65</td>\n",
       "      <td>6082.57</td>\n",
       "    </tr>\n",
       "    <tr>\n",
       "      <th>San Andres</th>\n",
       "      <td>NaN</td>\n",
       "      <td>41.89</td>\n",
       "      <td>8164.16</td>\n",
       "    </tr>\n",
       "    <tr>\n",
       "      <th rowspan=\"13\" valign=\"top\">USA</th>\n",
       "      <th>Bellingham</th>\n",
       "      <td>21.59</td>\n",
       "      <td>509.20</td>\n",
       "      <td>461.84</td>\n",
       "    </tr>\n",
       "    <tr>\n",
       "      <th>Beverly Hills</th>\n",
       "      <td>77.40</td>\n",
       "      <td>4927.42</td>\n",
       "      <td>5315.35</td>\n",
       "    </tr>\n",
       "    <tr>\n",
       "      <th>Bremerton</th>\n",
       "      <td>5.52</td>\n",
       "      <td>5221.51</td>\n",
       "      <td>5747.86</td>\n",
       "    </tr>\n",
       "    <tr>\n",
       "      <th>Los Angeles</th>\n",
       "      <td>51.02</td>\n",
       "      <td>6528.91</td>\n",
       "      <td>5716.24</td>\n",
       "    </tr>\n",
       "    <tr>\n",
       "      <th>Portland</th>\n",
       "      <td>42.92</td>\n",
       "      <td>5659.90</td>\n",
       "      <td>6223.78</td>\n",
       "    </tr>\n",
       "    <tr>\n",
       "      <th>Salem</th>\n",
       "      <td>49.85</td>\n",
       "      <td>9477.28</td>\n",
       "      <td>8684.71</td>\n",
       "    </tr>\n",
       "    <tr>\n",
       "      <th>San Diego</th>\n",
       "      <td>76.82</td>\n",
       "      <td>5593.27</td>\n",
       "      <td>5699.68</td>\n",
       "    </tr>\n",
       "    <tr>\n",
       "      <th>San Francisco</th>\n",
       "      <td>4.49</td>\n",
       "      <td>384.60</td>\n",
       "      <td>355.21</td>\n",
       "    </tr>\n",
       "    <tr>\n",
       "      <th>Seattle</th>\n",
       "      <td>NaN</td>\n",
       "      <td>5667.92</td>\n",
       "      <td>6484.47</td>\n",
       "    </tr>\n",
       "    <tr>\n",
       "      <th>Spokane</th>\n",
       "      <td>NaN</td>\n",
       "      <td>5115.39</td>\n",
       "      <td>6118.65</td>\n",
       "    </tr>\n",
       "    <tr>\n",
       "      <th>Tacoma</th>\n",
       "      <td>34.16</td>\n",
       "      <td>7824.27</td>\n",
       "      <td>8972.72</td>\n",
       "    </tr>\n",
       "    <tr>\n",
       "      <th>Walla Walla</th>\n",
       "      <td>NaN</td>\n",
       "      <td>502.66</td>\n",
       "      <td>661.94</td>\n",
       "    </tr>\n",
       "    <tr>\n",
       "      <th>Yakima</th>\n",
       "      <td>34.59</td>\n",
       "      <td>2499.93</td>\n",
       "      <td>2535.45</td>\n",
       "    </tr>\n",
       "  </tbody>\n",
       "</table>\n",
       "</div>"
      ],
      "text/plain": [
       "Purchase Date          2021    2022     2023\n",
       "Country City                                \n",
       "Canada  Vancouver       NaN  112.42  8552.58\n",
       "        Victoria        NaN   29.54  2372.49\n",
       "Mexico  Acapulco        NaN   33.24  5128.07\n",
       "        Camacho         NaN   75.06  5722.39\n",
       "        Guadalajara     NaN     NaN   523.32\n",
       "        Hidalgo         NaN   65.20 11247.57\n",
       "        Merida          NaN   98.46  8641.99\n",
       "        Mexico City     NaN     NaN  2488.31\n",
       "        Orizaba         NaN  162.65  6082.57\n",
       "        San Andres      NaN   41.89  8164.16\n",
       "USA     Bellingham    21.59  509.20   461.84\n",
       "        Beverly Hills 77.40 4927.42  5315.35\n",
       "        Bremerton      5.52 5221.51  5747.86\n",
       "        Los Angeles   51.02 6528.91  5716.24\n",
       "        Portland      42.92 5659.90  6223.78\n",
       "        Salem         49.85 9477.28  8684.71\n",
       "        San Diego     76.82 5593.27  5699.68\n",
       "        San Francisco  4.49  384.60   355.21\n",
       "        Seattle         NaN 5667.92  6484.47\n",
       "        Spokane         NaN 5115.39  6118.65\n",
       "        Tacoma        34.16 7824.27  8972.72\n",
       "        Walla Walla     NaN  502.66   661.94\n",
       "        Yakima        34.59 2499.93  2535.45"
      ]
     },
     "execution_count": 30,
     "metadata": {},
     "output_type": "execute_result"
    }
   ],
   "source": [
    "pivot_table1"
   ]
  },
  {
   "cell_type": "markdown",
   "metadata": {},
   "source": [
    "## Which country generates the least revenue? (Canada)"
   ]
  },
  {
   "cell_type": "code",
   "execution_count": 31,
   "metadata": {},
   "outputs": [],
   "source": [
    "# Show the average revenue generated by each product family in each country and city.\n",
    "# Name the worksheet 'Pivot_chart_b.'"
   ]
  },
  {
   "cell_type": "code",
   "execution_count": 32,
   "metadata": {},
   "outputs": [],
   "source": [
    "pivot_table2 = df.pivot_table(index=['Country', 'City'], columns='Product Family', values='Revenue', aggfunc='mean')"
   ]
  },
  {
   "cell_type": "code",
   "execution_count": 33,
   "metadata": {},
   "outputs": [
    {
     "data": {
      "text/html": [
       "<div>\n",
       "<style scoped>\n",
       "    .dataframe tbody tr th:only-of-type {\n",
       "        vertical-align: middle;\n",
       "    }\n",
       "\n",
       "    .dataframe tbody tr th {\n",
       "        vertical-align: top;\n",
       "    }\n",
       "\n",
       "    .dataframe thead th {\n",
       "        text-align: right;\n",
       "    }\n",
       "</style>\n",
       "<table border=\"1\" class=\"dataframe\">\n",
       "  <thead>\n",
       "    <tr style=\"text-align: right;\">\n",
       "      <th></th>\n",
       "      <th>Product Family</th>\n",
       "      <th>Drink</th>\n",
       "      <th>Food</th>\n",
       "      <th>Non-Consumable</th>\n",
       "    </tr>\n",
       "    <tr>\n",
       "      <th>Country</th>\n",
       "      <th>City</th>\n",
       "      <th></th>\n",
       "      <th></th>\n",
       "      <th></th>\n",
       "    </tr>\n",
       "  </thead>\n",
       "  <tbody>\n",
       "    <tr>\n",
       "      <th rowspan=\"2\" valign=\"top\">Canada</th>\n",
       "      <th>Vancouver</th>\n",
       "      <td>13.00</td>\n",
       "      <td>13.98</td>\n",
       "      <td>12.90</td>\n",
       "    </tr>\n",
       "    <tr>\n",
       "      <th>Victoria</th>\n",
       "      <td>12.87</td>\n",
       "      <td>14.15</td>\n",
       "      <td>12.38</td>\n",
       "    </tr>\n",
       "    <tr>\n",
       "      <th rowspan=\"8\" valign=\"top\">Mexico</th>\n",
       "      <th>Acapulco</th>\n",
       "      <td>14.89</td>\n",
       "      <td>13.49</td>\n",
       "      <td>12.59</td>\n",
       "    </tr>\n",
       "    <tr>\n",
       "      <th>Camacho</th>\n",
       "      <td>11.67</td>\n",
       "      <td>13.24</td>\n",
       "      <td>11.79</td>\n",
       "    </tr>\n",
       "    <tr>\n",
       "      <th>Guadalajara</th>\n",
       "      <td>6.90</td>\n",
       "      <td>6.68</td>\n",
       "      <td>8.30</td>\n",
       "    </tr>\n",
       "    <tr>\n",
       "      <th>Hidalgo</th>\n",
       "      <td>11.83</td>\n",
       "      <td>13.51</td>\n",
       "      <td>13.68</td>\n",
       "    </tr>\n",
       "    <tr>\n",
       "      <th>Merida</th>\n",
       "      <td>12.27</td>\n",
       "      <td>13.38</td>\n",
       "      <td>13.76</td>\n",
       "    </tr>\n",
       "    <tr>\n",
       "      <th>Mexico City</th>\n",
       "      <td>17.51</td>\n",
       "      <td>12.62</td>\n",
       "      <td>11.78</td>\n",
       "    </tr>\n",
       "    <tr>\n",
       "      <th>Orizaba</th>\n",
       "      <td>12.99</td>\n",
       "      <td>13.27</td>\n",
       "      <td>14.29</td>\n",
       "    </tr>\n",
       "    <tr>\n",
       "      <th>San Andres</th>\n",
       "      <td>14.20</td>\n",
       "      <td>13.16</td>\n",
       "      <td>12.99</td>\n",
       "    </tr>\n",
       "    <tr>\n",
       "      <th rowspan=\"13\" valign=\"top\">USA</th>\n",
       "      <th>Bellingham</th>\n",
       "      <td>6.53</td>\n",
       "      <td>7.21</td>\n",
       "      <td>6.31</td>\n",
       "    </tr>\n",
       "    <tr>\n",
       "      <th>Beverly Hills</th>\n",
       "      <td>11.81</td>\n",
       "      <td>12.86</td>\n",
       "      <td>12.66</td>\n",
       "    </tr>\n",
       "    <tr>\n",
       "      <th>Bremerton</th>\n",
       "      <td>12.81</td>\n",
       "      <td>13.37</td>\n",
       "      <td>12.39</td>\n",
       "    </tr>\n",
       "    <tr>\n",
       "      <th>Los Angeles</th>\n",
       "      <td>12.50</td>\n",
       "      <td>13.13</td>\n",
       "      <td>14.21</td>\n",
       "    </tr>\n",
       "    <tr>\n",
       "      <th>Portland</th>\n",
       "      <td>12.31</td>\n",
       "      <td>13.69</td>\n",
       "      <td>13.88</td>\n",
       "    </tr>\n",
       "    <tr>\n",
       "      <th>Salem</th>\n",
       "      <td>12.13</td>\n",
       "      <td>13.41</td>\n",
       "      <td>12.62</td>\n",
       "    </tr>\n",
       "    <tr>\n",
       "      <th>San Diego</th>\n",
       "      <td>14.93</td>\n",
       "      <td>12.89</td>\n",
       "      <td>13.01</td>\n",
       "    </tr>\n",
       "    <tr>\n",
       "      <th>San Francisco</th>\n",
       "      <td>8.72</td>\n",
       "      <td>5.35</td>\n",
       "      <td>5.26</td>\n",
       "    </tr>\n",
       "    <tr>\n",
       "      <th>Seattle</th>\n",
       "      <td>13.94</td>\n",
       "      <td>13.09</td>\n",
       "      <td>13.12</td>\n",
       "    </tr>\n",
       "    <tr>\n",
       "      <th>Spokane</th>\n",
       "      <td>11.86</td>\n",
       "      <td>13.06</td>\n",
       "      <td>12.50</td>\n",
       "    </tr>\n",
       "    <tr>\n",
       "      <th>Tacoma</th>\n",
       "      <td>12.83</td>\n",
       "      <td>13.48</td>\n",
       "      <td>13.28</td>\n",
       "    </tr>\n",
       "    <tr>\n",
       "      <th>Walla Walla</th>\n",
       "      <td>7.22</td>\n",
       "      <td>7.35</td>\n",
       "      <td>7.03</td>\n",
       "    </tr>\n",
       "    <tr>\n",
       "      <th>Yakima</th>\n",
       "      <td>14.32</td>\n",
       "      <td>13.38</td>\n",
       "      <td>13.52</td>\n",
       "    </tr>\n",
       "  </tbody>\n",
       "</table>\n",
       "</div>"
      ],
      "text/plain": [
       "Product Family         Drink  Food  Non-Consumable\n",
       "Country City                                      \n",
       "Canada  Vancouver      13.00 13.98           12.90\n",
       "        Victoria       12.87 14.15           12.38\n",
       "Mexico  Acapulco       14.89 13.49           12.59\n",
       "        Camacho        11.67 13.24           11.79\n",
       "        Guadalajara     6.90  6.68            8.30\n",
       "        Hidalgo        11.83 13.51           13.68\n",
       "        Merida         12.27 13.38           13.76\n",
       "        Mexico City    17.51 12.62           11.78\n",
       "        Orizaba        12.99 13.27           14.29\n",
       "        San Andres     14.20 13.16           12.99\n",
       "USA     Bellingham      6.53  7.21            6.31\n",
       "        Beverly Hills  11.81 12.86           12.66\n",
       "        Bremerton      12.81 13.37           12.39\n",
       "        Los Angeles    12.50 13.13           14.21\n",
       "        Portland       12.31 13.69           13.88\n",
       "        Salem          12.13 13.41           12.62\n",
       "        San Diego      14.93 12.89           13.01\n",
       "        San Francisco   8.72  5.35            5.26\n",
       "        Seattle        13.94 13.09           13.12\n",
       "        Spokane        11.86 13.06           12.50\n",
       "        Tacoma         12.83 13.48           13.28\n",
       "        Walla Walla     7.22  7.35            7.03\n",
       "        Yakima         14.32 13.38           13.52"
      ]
     },
     "execution_count": 33,
     "metadata": {},
     "output_type": "execute_result"
    }
   ],
   "source": [
    "pivot_table2"
   ]
  },
  {
   "cell_type": "markdown",
   "metadata": {},
   "source": [
    "**==========================================================================================================**"
   ]
  },
  {
   "cell_type": "markdown",
   "metadata": {},
   "source": [
    "**==========================================================================================================**"
   ]
  },
  {
   "cell_type": "code",
   "execution_count": 34,
   "metadata": {},
   "outputs": [],
   "source": [
    "# Multiple linear regression:\n",
    "\n",
    "#a. Use the dataset in the monthly_sales worksheet. The data sheet shows the monthly sales in 2021, 2022, and 2023. Find how the 2023 sales revenue depends on the monthly sales in 2021 and 2022 using multiple linear regression. Use the XLMiner Analysis Toolpak add-in to perform the regression analysis. (If you are using the desktop version of Excel, you may use the Data Analysis Toolpak available in the add-in.) The regression summary must be displayed in the same worksheet.\n",
    "\n",
    "#b. Interpret the output. During your submission, you will record the R-squared value, Significance F of the models, and p-values for each independent variable and explain what these values signify.\n"
   ]
  },
  {
   "cell_type": "code",
   "execution_count": 35,
   "metadata": {},
   "outputs": [
    {
     "data": {
      "text/html": [
       "<div>\n",
       "<style scoped>\n",
       "    .dataframe tbody tr th:only-of-type {\n",
       "        vertical-align: middle;\n",
       "    }\n",
       "\n",
       "    .dataframe tbody tr th {\n",
       "        vertical-align: top;\n",
       "    }\n",
       "\n",
       "    .dataframe thead th {\n",
       "        text-align: right;\n",
       "    }\n",
       "</style>\n",
       "<table border=\"1\" class=\"dataframe\">\n",
       "  <thead>\n",
       "    <tr style=\"text-align: right;\">\n",
       "      <th></th>\n",
       "      <th>Month</th>\n",
       "      <th>2021Sales</th>\n",
       "      <th>2022Sales</th>\n",
       "      <th>2023Sales</th>\n",
       "    </tr>\n",
       "  </thead>\n",
       "  <tbody>\n",
       "    <tr>\n",
       "      <th>0</th>\n",
       "      <td>January</td>\n",
       "      <td>47.80</td>\n",
       "      <td>5110.92</td>\n",
       "      <td>9877.97</td>\n",
       "    </tr>\n",
       "    <tr>\n",
       "      <th>1</th>\n",
       "      <td>February</td>\n",
       "      <td>22.81</td>\n",
       "      <td>5056.59</td>\n",
       "      <td>10243.35</td>\n",
       "    </tr>\n",
       "    <tr>\n",
       "      <th>2</th>\n",
       "      <td>March</td>\n",
       "      <td>23.53</td>\n",
       "      <td>4888.17</td>\n",
       "      <td>10329.64</td>\n",
       "    </tr>\n",
       "    <tr>\n",
       "      <th>3</th>\n",
       "      <td>April</td>\n",
       "      <td>35.23</td>\n",
       "      <td>5024.49</td>\n",
       "      <td>10371.28</td>\n",
       "    </tr>\n",
       "    <tr>\n",
       "      <th>4</th>\n",
       "      <td>May</td>\n",
       "      <td>51.74</td>\n",
       "      <td>4792.85</td>\n",
       "      <td>10248.42</td>\n",
       "    </tr>\n",
       "    <tr>\n",
       "      <th>5</th>\n",
       "      <td>June</td>\n",
       "      <td>38.81</td>\n",
       "      <td>5198.42</td>\n",
       "      <td>10243.03</td>\n",
       "    </tr>\n",
       "    <tr>\n",
       "      <th>6</th>\n",
       "      <td>July</td>\n",
       "      <td>32.33</td>\n",
       "      <td>419.79</td>\n",
       "      <td>10198.81</td>\n",
       "    </tr>\n",
       "    <tr>\n",
       "      <th>7</th>\n",
       "      <td>August</td>\n",
       "      <td>31.33</td>\n",
       "      <td>5125.88</td>\n",
       "      <td>10367.29</td>\n",
       "    </tr>\n",
       "    <tr>\n",
       "      <th>8</th>\n",
       "      <td>September</td>\n",
       "      <td>32.68</td>\n",
       "      <td>5230.95</td>\n",
       "      <td>10140.83</td>\n",
       "    </tr>\n",
       "    <tr>\n",
       "      <th>9</th>\n",
       "      <td>October</td>\n",
       "      <td>127.94</td>\n",
       "      <td>5160.45</td>\n",
       "      <td>9876.70</td>\n",
       "    </tr>\n",
       "    <tr>\n",
       "      <th>10</th>\n",
       "      <td>November</td>\n",
       "      <td>46.87</td>\n",
       "      <td>5045.88</td>\n",
       "      <td>10002.39</td>\n",
       "    </tr>\n",
       "    <tr>\n",
       "      <th>11</th>\n",
       "      <td>December</td>\n",
       "      <td>12.37</td>\n",
       "      <td>4762.18</td>\n",
       "      <td>10001.64</td>\n",
       "    </tr>\n",
       "  </tbody>\n",
       "</table>\n",
       "</div>"
      ],
      "text/plain": [
       "        Month  2021Sales  2022Sales  2023Sales\n",
       "0     January      47.80    5110.92    9877.97\n",
       "1    February      22.81    5056.59   10243.35\n",
       "2       March      23.53    4888.17   10329.64\n",
       "3       April      35.23    5024.49   10371.28\n",
       "4         May      51.74    4792.85   10248.42\n",
       "5        June      38.81    5198.42   10243.03\n",
       "6        July      32.33     419.79   10198.81\n",
       "7      August      31.33    5125.88   10367.29\n",
       "8   September      32.68    5230.95   10140.83\n",
       "9     October     127.94    5160.45    9876.70\n",
       "10   November      46.87    5045.88   10002.39\n",
       "11   December      12.37    4762.18   10001.64"
      ]
     },
     "execution_count": 35,
     "metadata": {},
     "output_type": "execute_result"
    }
   ],
   "source": [
    "df2 = pd.read_csv(\"monthly_sales.csv\")\n",
    "df2"
   ]
  },
  {
   "cell_type": "code",
   "execution_count": 36,
   "metadata": {},
   "outputs": [
    {
     "data": {
      "text/plain": [
       "Index(['Month', '2021Sales', '2022Sales', '2023Sales'], dtype='object')"
      ]
     },
     "execution_count": 36,
     "metadata": {},
     "output_type": "execute_result"
    }
   ],
   "source": [
    "df2.columns"
   ]
  },
  {
   "cell_type": "markdown",
   "metadata": {},
   "source": [
    "## What are the dependent and independent variables?\n",
    "'2021Sales', '2022Sales' are Independent variables\n",
    "\n",
    "'2023Sales' is Dependent variable"
   ]
  },
  {
   "cell_type": "code",
   "execution_count": 37,
   "metadata": {},
   "outputs": [
    {
     "name": "stdout",
     "output_type": "stream",
     "text": [
      "                            OLS Regression Results                            \n",
      "==============================================================================\n",
      "Dep. Variable:              2023Sales   R-squared:                       0.272\n",
      "Model:                            OLS   Adj. R-squared:                  0.111\n",
      "Method:                 Least Squares   F-statistic:                     1.685\n",
      "Date:                Tue, 20 Feb 2024   Prob (F-statistic):              0.239\n",
      "Time:                        20:08:23   Log-Likelihood:                -76.797\n",
      "No. Observations:                  12   AIC:                             159.6\n",
      "Df Residuals:                       9   BIC:                             161.0\n",
      "Df Model:                           2                                         \n",
      "Covariance Type:            nonrobust                                         \n",
      "==============================================================================\n",
      "                 coef    std err          t      P>|t|      [0.025      0.975]\n",
      "------------------------------------------------------------------------------\n",
      "const        1.03e+04    188.689     54.576      0.000    9870.946    1.07e+04\n",
      "2021Sales     -3.1604      1.744     -1.812      0.103      -7.106       0.785\n",
      "2022Sales     -0.0015      0.038     -0.038      0.970      -0.088       0.085\n",
      "==============================================================================\n",
      "Omnibus:                        1.150   Durbin-Watson:                   0.856\n",
      "Prob(Omnibus):                  0.563   Jarque-Bera (JB):                0.935\n",
      "Skew:                          -0.543   Prob(JB):                        0.627\n",
      "Kurtosis:                       2.170   Cond. No.                     1.88e+04\n",
      "==============================================================================\n",
      "\n",
      "Notes:\n",
      "[1] Standard Errors assume that the covariance matrix of the errors is correctly specified.\n",
      "[2] The condition number is large, 1.88e+04. This might indicate that there are\n",
      "strong multicollinearity or other numerical problems.\n"
     ]
    }
   ],
   "source": [
    "# Prepare the data\n",
    "X = df2[['2021Sales', '2022Sales']]  # Independent variables\n",
    "y = df2['2023Sales']  # Dependent variable\n",
    "\n",
    "# Add a constant term to the independent variables\n",
    "X = sm.add_constant(X)\n",
    "\n",
    "# Fit the multiple linear regression model\n",
    "model = sm.OLS(y, X).fit()\n",
    "\n",
    "# Print the model summary\n",
    "print(model.summary())"
   ]
  },
  {
   "cell_type": "markdown",
   "metadata": {},
   "source": [
    "## What part of the variance in the 2023 Sales is explained by the model?\n",
    "\n",
    "R-squared value\n",
    "\n",
    "## Is the model as a whole statistically significant?\n",
    "\n",
    "No, as both p-values more than 0.05\n",
    "\n",
    "## Is each independent variable statistically independent?\n",
    "\n",
    "The p-values associated with some coefficients are not significant, it suggests that those independent variables may not be making a unique or statistically significant contribution to explaining the variation in the dependent variable, given the other independent variables in the model."
   ]
  },
  {
   "cell_type": "markdown",
   "metadata": {},
   "source": [
    "**==========================================================================================================**"
   ]
  },
  {
   "cell_type": "markdown",
   "metadata": {},
   "source": [
    "#### Python code done by Dennis Lam"
   ]
  }
 ],
 "metadata": {
  "kernelspec": {
   "display_name": "Python 3 (ipykernel)",
   "language": "python",
   "name": "python3"
  },
  "language_info": {
   "codemirror_mode": {
    "name": "ipython",
    "version": 3
   },
   "file_extension": ".py",
   "mimetype": "text/x-python",
   "name": "python",
   "nbconvert_exporter": "python",
   "pygments_lexer": "ipython3",
   "version": "3.8.18"
  }
 },
 "nbformat": 4,
 "nbformat_minor": 4
}
